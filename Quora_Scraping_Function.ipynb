{
 "cells": [
  {
   "cell_type": "markdown",
   "metadata": {},
   "source": [
    "### Function which scrapes a given Quora Link and returns a data frame with Username, Profile Link and Answers along with the same details for related questions."
   ]
  },
  {
   "cell_type": "code",
   "execution_count": 140,
   "metadata": {},
   "outputs": [],
   "source": [
    "import bs4\n",
    "import urllib\n",
    "import pandas as pd\n",
    "import itertools"
   ]
  },
  {
   "cell_type": "code",
   "execution_count": null,
   "metadata": {},
   "outputs": [],
   "source": []
  },
  {
   "cell_type": "code",
   "execution_count": 156,
   "metadata": {},
   "outputs": [],
   "source": [
    "def scrape_quora(input_url):\n",
    "    page = urllib.request.urlopen(input_url).read()\n",
    "    soup = bs4.BeautifulSoup(page,'lxml')\n",
    "    # fetch user details\n",
    "    users = soup.findAll('div',{'class':'feed_item_answer_user'})\n",
    "    answered_users = []\n",
    "    for i in users:\n",
    "        answered_users.append(i.get_text())\n",
    "        \n",
    "    # fetch answers\n",
    "    texts = soup.findAll('div',{'class':'ui_qtext_expanded'})\n",
    "    answers = []\n",
    "    for i in texts:\n",
    "        answers.append(i.get_text())\n",
    "        \n",
    "    # fetch profile links\n",
    "    users_profile = soup.findAll('a',{'class':'user'})\n",
    "    profile_links = []\n",
    "    for i in users_profile:\n",
    "        profile_id = i['href']\n",
    "        profile_links.append('https://www.quora.com'+profile_id)\n",
    "    \n",
    "    # some processing to remove extra profile links\n",
    "    dic = {}\n",
    "    for i in answered_users:\n",
    "        name = i.strip().split(',')[0].split(' ')[0]\n",
    "        for links in profile_links:\n",
    "            if name in links:\n",
    "                dic[name] = links\n",
    "                \n",
    "    users = list(dic.keys())\n",
    "    links = list(dic.values())\n",
    "    users = pd.Series(users)\n",
    "    answers = pd.Series(answers)\n",
    "    profile_links = pd.Series(links)\n",
    "    \n",
    "    # combine everything into a data frame\n",
    "    df = pd.concat([users.rename('Users'),profile_links.rename('Links'),answers.rename('Answers')],axis=1)\n",
    "    return(df)"
   ]
  },
  {
   "cell_type": "code",
   "execution_count": 96,
   "metadata": {},
   "outputs": [],
   "source": [
    "def scrape_related_questions(input_url):\n",
    "    \n",
    "    page = urllib.request.urlopen(input_url).read()\n",
    "    soup = bs4.BeautifulSoup(page,'lxml')\n",
    "    all_related_questions = soup.findAll('li',{'class':'related_question'})\n",
    "    related_question_links = []\n",
    "    tmp = {}\n",
    "    for i in all_related_questions:\n",
    "        q_text = i.get_text().strip().replace(' ','-')\n",
    "        q_link = 'https://www.quora.com/'+q_text\n",
    "        if q_text not in tmp:\n",
    "            print(q_link)\n",
    "            try:\n",
    "                tmp[q_text] = scrape_quora(q_link)  \n",
    "            except Exception:\n",
    "                continue\n",
    "        else:\n",
    "            continue\n",
    "    return(tmp)"
   ]
  },
  {
   "cell_type": "code",
   "execution_count": null,
   "metadata": {},
   "outputs": [],
   "source": []
  },
  {
   "cell_type": "code",
   "execution_count": 158,
   "metadata": {},
   "outputs": [
    {
     "name": "stdout",
     "output_type": "stream",
     "text": [
      "https://www.quora.com/Which-is-better-to-study,-data-science-or-big-data?\n",
      "https://www.quora.com/How-good-are-Data-Science-studies-in-China?\n",
      "https://www.quora.com/Are-there-any-online-Data-Science-study-groups?\n",
      "https://www.quora.com/How-do-I-plan-a-data-science-self-study?\n",
      "https://www.quora.com/How-do-I-get-motivation-to-study-data-science?\n",
      "https://www.quora.com/Where-should-I-study-data-sciences-and/or-actuarial-science?\n",
      "https://www.quora.com/Where-can-I-find-full-data-science-case-studies?\n",
      "https://www.quora.com/What-is-required-to-study-data-science?\n",
      "https://www.quora.com/Where-are-the-best-institutes-to-study-data-science?\n",
      "https://www.quora.com/Is-Glasgow-University-a-good-place-for-studying-data-science?\n",
      "https://www.quora.com/Is-data-science-evil?\n",
      "https://www.quora.com/What-is-target-data-in-data-mining?\n",
      "https://www.quora.com/Is-Data-Science-a-science?\n",
      "https://www.quora.com/Data-science-requirements?\n",
      "https://www.quora.com/What-is-the-component-of-big-data?\n",
      "https://www.quora.com/Is-data-science-overrated?\n",
      "https://www.quora.com/Which-datasets-are-good-to-start-data-science-study?\n",
      "https://www.quora.com/Is-data-science-easy?\n",
      "https://www.quora.com/How-can-big-data-be-used-to-analyze-love-connections?\n",
      "https://www.quora.com/Does-Data-Science-come-under-Computer-Science?\n",
      "https://www.quora.com/Which-is-better-to-study,-data-science-or-big-data?\n",
      "https://www.quora.com/Where-should-I-study-data-sciences-and/or-actuarial-science?\n"
     ]
    }
   ],
   "source": [
    "df = scrape_related_questions('https://www.quora.com/Should-I-study-data-science?')"
   ]
  },
  {
   "cell_type": "code",
   "execution_count": 166,
   "metadata": {},
   "outputs": [],
   "source": [
    "dff = pd.DataFrame.from_dict(df,orient='index')"
   ]
  },
  {
   "cell_type": "code",
   "execution_count": 169,
   "metadata": {},
   "outputs": [],
   "source": [
    "dff.to_csv('scr.csv')"
   ]
  },
  {
   "cell_type": "code",
   "execution_count": null,
   "metadata": {},
   "outputs": [],
   "source": []
  },
  {
   "cell_type": "code",
   "execution_count": null,
   "metadata": {},
   "outputs": [],
   "source": []
  },
  {
   "cell_type": "code",
   "execution_count": null,
   "metadata": {},
   "outputs": [],
   "source": []
  }
 ],
 "metadata": {
  "kernelspec": {
   "display_name": "Python 3",
   "language": "python",
   "name": "python3"
  },
  "language_info": {
   "codemirror_mode": {
    "name": "ipython",
    "version": 3
   },
   "file_extension": ".py",
   "mimetype": "text/x-python",
   "name": "python",
   "nbconvert_exporter": "python",
   "pygments_lexer": "ipython3",
   "version": "3.6.6"
  }
 },
 "nbformat": 4,
 "nbformat_minor": 2
}
