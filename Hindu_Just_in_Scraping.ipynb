{
 "cells": [
  {
   "cell_type": "code",
   "execution_count": 17,
   "metadata": {},
   "outputs": [],
   "source": [
    "import bs4 as bs\n",
    "import lxml\n",
    "import urllib.request\n",
    "import pandas as pd\n",
    "import pyttsx3\n",
    "import os"
   ]
  },
  {
   "cell_type": "code",
   "execution_count": 2,
   "metadata": {},
   "outputs": [],
   "source": [
    "hindu_source = urllib.request.urlopen('https://www.thehindu.com/').read()\n",
    "hindu_soup = bs.BeautifulSoup(sauce,'lxml')"
   ]
  },
  {
   "cell_type": "code",
   "execution_count": 16,
   "metadata": {},
   "outputs": [],
   "source": [
    "engine = pyttsx3.init()"
   ]
  },
  {
   "cell_type": "code",
   "execution_count": 11,
   "metadata": {},
   "outputs": [
    {
     "name": "stdout",
     "output_type": "stream",
     "text": [
      "Rafale: Hollande’s claims come at time when his associate facing charges, says Nirmala Sitharaman\n",
      "Read More :  https://www.thehindu.com/news/national/rafale-hollandes-claims-come-at-time-when-his-associate-facing-charges-says-nirmala-sitharaman/article25082388.ece\n",
      "********************\n",
      "SC dismisses Karnataka's curative petition in Jayalalithaa DA case\n",
      "Read More :  https://www.thehindu.com/news/national/sc-dismisses-karnatakas-curative-petition-in-jayalalithaa-da-case/article25082258.ece\n",
      "********************\n",
      "Europe surge into four-point lead over US at Ryder Cup\n",
      "Read More :  https://www.thehindu.com/sport/other-sports/42nd-ryder-cup-golf-championship-europe-vs-usa/article25081858.ece\n",
      "********************\n",
      "Gold glitters on positive global cues, jewellers’ buying\n",
      "Read More :  https://www.thehindu.com/business/markets/gold-glitters-on-positive-global-cues-jewellers-buying/article25081514.ece\n",
      "********************\n",
      "Chess Olympiad: Indian men to meet Russia\n",
      "Read More :  https://www.thehindu.com/sport/other-sports/chess-olympiad-indian-men-to-meet-russia/article25081379.ece\n",
      "********************\n",
      "N. Ravi, former Editor-in-Chief of The Hindu, elected PTI chairman\n",
      "Read More :  https://www.thehindu.com/news/national/n-ravi-former-editor-in-chief-of-the-hindu-elected-pti-chairman/article25081126.ece\n",
      "********************\n",
      "India to gift Mig-21 fighter jets to Russia\n",
      "Read More :  https://www.thehindu.com/news/national/india-to-gift-mig-21-fighter-jets-to-russia/article25081118.ece\n",
      "********************\n",
      "Jadeja has proved himself in limited chances of Asia Cup, says Rohit\n",
      "Read More :  https://www.thehindu.com/sport/cricket/jadeja-has-proved-himself-in-limited-chances-of-asia-cup-says-rohit/article25080822.ece\n",
      "********************\n",
      "Asia Cup 2018 finals: We didn’t capitalise when we had it under control, says Mortaza\n",
      "Read More :  https://www.thehindu.com/sport/cricket/asia-cup-2018-finals-we-didnt-capitalise-when-we-had-it-under-control-says-mortaza/article25080792.ece\n",
      "********************\n",
      "When it comes to calmness, I am similar to Dhoni: Rohit\n",
      "Read More :  https://www.thehindu.com/sport/cricket/when-it-comes-to-calmness-i-am-similar-to-dhoni-rohit/article25080746.ece\n",
      "********************\n",
      "Selectors await update on Kohli’s wrist injury, Bhuvneshwar-Bumrah to be rested\n",
      "Read More :  https://www.thehindu.com/sport/cricket/west-indies-tour-of-india-india-vs-west-indies-test-series-selectors-await-update-on-kohlis-wrist-injury-bhuvneshwar-bumrah-to-be-rested/article25080743.ece\n",
      "********************\n",
      "Apple employee shot dead by UP police for not stopping car\n",
      "Read More :  https://www.thehindu.com/news/national/other-states/apple-employee-shot-dead-by-up-police-for-not-stopping-car/article25080576.ece\n",
      "********************\n",
      "Police registers FIR after national flag displayed upside down in BJP rally in J&K’s Kathua\n",
      "Read More :  https://www.thehindu.com/news/national/other-states/police-registers-fir-after-national-flag-displayed-upside-down-in-bjp-rally-in-jks-kathua/article25079927.ece\n",
      "********************\n",
      "Kevin Spacey sued by masseur over alleged sexual assault in 2016\n",
      "Read More :  https://www.thehindu.com/entertainment/kevin-spacey-sued-by-masseur-over-alleged-sexual-assault-in-2016/article25079857.ece\n",
      "********************\n",
      "Modi govt's proposed amendment will benefit 'selected' power companies, says Kejriwal\n",
      "Read More :  https://www.thehindu.com/news/cities/Delhi/modi-govts-proposed-amendment-will-benefit-selected-power-companies-says-kejriwal/article25079723.ece\n",
      "********************\n"
     ]
    }
   ],
   "source": [
    "just_in_content = soup.find('div',{'class':'justin-text-cont'})\n",
    "articles_url = just_in_content.findAll('a')\n",
    "links = []\n",
    "texts = []\n",
    "for i in range(len(articles_url)-1):\n",
    "    link = articles_url[i].get('href')\n",
    "    text = articles_url[i].get_text().strip().split('\\n')[1]\n",
    "    engine.say(text);\n",
    "    print(text)\n",
    "    engine.runAndWait()\n",
    "    print('Read More : ',link)\n",
    "    print('*'*20)"
   ]
  },
  {
   "cell_type": "code",
   "execution_count": 5,
   "metadata": {},
   "outputs": [],
   "source": []
  },
  {
   "cell_type": "code",
   "execution_count": null,
   "metadata": {},
   "outputs": [],
   "source": []
  },
  {
   "cell_type": "code",
   "execution_count": null,
   "metadata": {},
   "outputs": [],
   "source": []
  },
  {
   "cell_type": "code",
   "execution_count": null,
   "metadata": {},
   "outputs": [],
   "source": []
  },
  {
   "cell_type": "code",
   "execution_count": null,
   "metadata": {},
   "outputs": [],
   "source": []
  }
 ],
 "metadata": {
  "kernelspec": {
   "display_name": "Python 3",
   "language": "python",
   "name": "python3"
  },
  "language_info": {
   "codemirror_mode": {
    "name": "ipython",
    "version": 3
   },
   "file_extension": ".py",
   "mimetype": "text/x-python",
   "name": "python",
   "nbconvert_exporter": "python",
   "pygments_lexer": "ipython3",
   "version": "3.6.5"
  }
 },
 "nbformat": 4,
 "nbformat_minor": 2
}
