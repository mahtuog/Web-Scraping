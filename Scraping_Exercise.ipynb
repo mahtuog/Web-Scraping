{
 "cells": [
  {
   "cell_type": "code",
   "execution_count": 73,
   "metadata": {},
   "outputs": [],
   "source": [
    "import bs4\n",
    "import urllib\n",
    "from lxml import html\n",
    "import pandas as pd"
   ]
  },
  {
   "cell_type": "code",
   "execution_count": 82,
   "metadata": {},
   "outputs": [],
   "source": [
    "sauce = urllib.request.urlopen('https://www.data.gov/').read()\n",
    "soup = bs4.BeautifulSoup(sauce,'lxml')"
   ]
  },
  {
   "cell_type": "markdown",
   "metadata": {},
   "source": [
    "#### 1. Number of datasets currently listed on data.gov "
   ]
  },
  {
   "cell_type": "code",
   "execution_count": 52,
   "metadata": {},
   "outputs": [
    {
     "data": {
      "text/plain": [
       "'302,944'"
      ]
     },
     "execution_count": 52,
     "metadata": {},
     "output_type": "execute_result"
    }
   ],
   "source": [
    "small = soup.find('small')\n",
    "lst = small.get_text().split(' ')\n",
    "lst[2]"
   ]
  },
  {
   "cell_type": "markdown",
   "metadata": {},
   "source": [
    "#### 2. The name of the most recently added dataset on data.gov "
   ]
  },
  {
   "cell_type": "code",
   "execution_count": 53,
   "metadata": {},
   "outputs": [],
   "source": [
    "sauce = urllib.request.urlopen('https://catalog.data.gov/dataset?q=&sort=metadata_created+desc&as_sfid=AAAAAAVXvlxJHTdTX72HohLggwVY4fxICTOWCZGlrOpJrDoJaSvG2cNIXlduCV1eE7igMncHl8A5RkOYllboiE-iImS7Ui5Tlv7YpjTaYgcNEXUaVrzfV1iPx9fhMsVJiB15kLA%3D&as_fid=a30c07f7ee15df7b2690d34da2c0650aee0f0de2&ext_location=&ext_bbox=&ext_prev_extent=-142.03125%2C8.754794702435618%2C-59.0625%2C61.77312286453146').read()\n",
    "soup = bs4.BeautifulSoup(sauce,'lxml')"
   ]
  },
  {
   "cell_type": "code",
   "execution_count": 66,
   "metadata": {},
   "outputs": [
    {
     "data": {
      "text/plain": [
       "'Region 7 Laboratory Information Management System'"
      ]
     },
     "execution_count": 66,
     "metadata": {},
     "output_type": "execute_result"
    }
   ],
   "source": [
    "datasets = soup.findAll('h3')\n",
    "datasets[0].get_text().strip('\\n')"
   ]
  },
  {
   "cell_type": "markdown",
   "metadata": {},
   "source": [
    "#### 3. The number of people who visited a U.S. government website using Internet Explorer 6.0 in the last 90 days"
   ]
  },
  {
   "cell_type": "code",
   "execution_count": 81,
   "metadata": {},
   "outputs": [
    {
     "data": {
      "text/plain": [
       "9958"
      ]
     },
     "execution_count": 81,
     "metadata": {},
     "output_type": "execute_result"
    }
   ],
   "source": [
    "data = pd.read_json('https://analytics.usa.gov/data/live/ie.json')\n",
    "dic = data['totals']['ie_version']\n",
    "dic['6.0']"
   ]
  },
  {
   "cell_type": "markdown",
   "metadata": {},
   "source": [
    "#### 4. The number of librarian-related job positions that the federal government is currently hiring for "
   ]
  },
  {
   "cell_type": "code",
   "execution_count": null,
   "metadata": {},
   "outputs": [],
   "source": []
  }
 ],
 "metadata": {
  "kernelspec": {
   "display_name": "Python 3",
   "language": "python",
   "name": "python3"
  },
  "language_info": {
   "codemirror_mode": {
    "name": "ipython",
    "version": 3
   },
   "file_extension": ".py",
   "mimetype": "text/x-python",
   "name": "python",
   "nbconvert_exporter": "python",
   "pygments_lexer": "ipython3",
   "version": "3.6.5"
  }
 },
 "nbformat": 4,
 "nbformat_minor": 2
}
