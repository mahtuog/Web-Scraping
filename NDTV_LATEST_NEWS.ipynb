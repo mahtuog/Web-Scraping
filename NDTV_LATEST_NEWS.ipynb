{
 "cells": [
  {
   "cell_type": "code",
   "execution_count": 1,
   "metadata": {},
   "outputs": [],
   "source": [
    "import bs4\n",
    "import urllib"
   ]
  },
  {
   "cell_type": "code",
   "execution_count": 3,
   "metadata": {},
   "outputs": [],
   "source": []
  },
  {
   "cell_type": "code",
   "execution_count": 18,
   "metadata": {},
   "outputs": [],
   "source": [
    "sources = []"
   ]
  },
  {
   "cell_type": "code",
   "execution_count": 19,
   "metadata": {},
   "outputs": [],
   "source": [
    "for i in range(1,6):\n",
    "    source = source + urllib.request.urlopen('https://www.ndtv.com/latest/page-'+str(i)).read()\n",
    "    sources.append(source)"
   ]
  },
  {
   "cell_type": "code",
   "execution_count": 27,
   "metadata": {},
   "outputs": [],
   "source": [
    "soups = []\n",
    "for i in range(0,len(sources)):\n",
    "    soup = bs4.BeautifulSoup(sources[i],'lxml')\n",
    "    soups.append(soup)"
   ]
  },
  {
   "cell_type": "code",
   "execution_count": 47,
   "metadata": {},
   "outputs": [],
   "source": [
    "stories = []\n",
    "for i in range(0,len(soups)):\n",
    "    story = soups[i].findAll('div',{'class':'nstory_header'})\n",
    "    stories.append(story)"
   ]
  },
  {
   "cell_type": "code",
   "execution_count": 48,
   "metadata": {},
   "outputs": [
    {
     "name": "stdout",
     "output_type": "stream",
     "text": [
      "[[<div class=\"nstory_header\"><a href=\"https://www.ndtv.com/india-news/full-text-of-sushma-swarajs-speech-at-73rd-un-general-assembly-1924337\" title=\"Full Text Of Sushma Swaraj's Speech At 73rd UN General Assembly\">\n",
      "                                Full Text Of Sushma Swaraj's Speech At 73rd UN General Assembly                            </a></div>, <div class=\"nstory_header\"><a href=\"https://www.ndtv.com/india-news/external-affairs-minister-sushma-swaraj-slams-pakistan-at-united-nations-meet-accuses-it-of-harbouri-1924335\" title='\"Talks With Pak Failed Because Of Its Actions\": Sushma Swaraj At UN'>\n",
      "                                \"Talks With Pak Failed Because Of Its Actions\": Sushma Swaraj At UN                            </a></div>, <div class=\"nstory_header\"><a href=\"https://sports.ndtv.com/football/premier-league-rio-ferdinand-says-manchester-united-face-big-decisions-after-hammer-blow-1924333\" title='Rio Ferdinand Says Manchester United Face \"Big Decisions\" After Hammer Blow'>\n",
      "                                Rio Ferdinand Says Manchester United Face \"Big Decisions\" After Hammer Blow                            </a></div>, <div class=\"nstory_header\"><a href=\"https://www.ndtv.com/india-news/climate-terrorism-biggest-challenge-says-sushma-swaraj-top-quotes-1924332\" title='\"Pakistan Sheltered Osama Bin Laden\": Top Quotes Of Sushma Swaraj At UN'>\n",
      "                                \"Pakistan Sheltered Osama Bin Laden\": Top Quotes Of Sushma Swaraj At UN                            </a></div>, <div class=\"nstory_header\"><a href=\"https://www.ndtv.com/india-news/un-must-accept-it-needs-fundamental-reforms-says-sushma-swaraj-1924331\" title='\"Tomorrow Could Be Too Late\": Sushma Swaraj Calls For Urgent UN Reform'>\n",
      "                                \"Tomorrow Could Be Too Late\": Sushma Swaraj Calls For Urgent UN Reform                            </a></div>, <div class=\"nstory_header\"><a href=\"https://www.ndtv.com/india-news/pm-modi-attacks-congress-failed-as-opposition-disconnected-with-people-1924330\" title=\"Congress Only Levels False Charges, Has Failed As Opposition: PM Modi\">\n",
      "                                Congress Only Levels False Charges, Has Failed As Opposition: PM Modi                            </a></div>, <div class=\"nstory_header\"><a href=\"https://www.ndtv.com/entertainment/taimur-kareena-kapoor-and-other-guests-at-inaayas-birthday-party-see-pics-1924329\" title=\"Taimur, Kareena Kapoor And Other Guests At Inaaya's Birthday Party. See Pics\">\n",
      "                                Taimur, Kareena Kapoor And Other Guests At Inaaya's Birthday Party. See Pics                            </a></div>, <div class=\"nstory_header\"><a href=\"https://www.ndtv.com/world-news/indonesia-tsunami-sensors-missed-huge-waves-official-1924328\" title=\"Indonesia Tsunami Sensors Failed To Detect Huge Waves: Official\">\n",
      "                                Indonesia Tsunami Sensors Failed To Detect Huge Waves: Official                            </a></div>, <div class=\"nstory_header\"><a href=\"https://sports.ndtv.com/football/manchester-united-lose-1-3-against-west-ham-to-deepen-jose-mourinho-woes-1924327\" title=\"Manchester United Lose 1-3 Against West Ham To Deepen Jose Mourinho Woes\">\n",
      "                                Manchester United Lose 1-3 Against West Ham To Deepen Jose Mourinho Woes                            </a></div>, <div class=\"nstory_header\"><a href=\"https://sports.ndtv.com/football/premier-league-michael-vaughan-accuses-manchester-united-players-of-trying-to-get-jose-mourinho-move-1924323\" title='Michael Vaughan Accuses Manchester United Players Of Trying To Get Jose Mourinho \"Moved Out\"'>\n",
      "                                Michael Vaughan Accuses Manchester United Players Of Trying To Get Jose Mourinho \"Moved Out\"                            </a></div>, <div class=\"nstory_header\"><a href=\"https://www.ndtv.com/india-news/m-venkaiah-naidu-difficult-to-find-maths-science-teachers-for-villages-1924322\" title=\"Difficult To Find Maths, Science Teachers For Villages: M Venkaiah Naidu\">\n",
      "                                Difficult To Find Maths, Science Teachers For Villages: M Venkaiah Naidu                            </a></div>, <div class=\"nstory_header\"><a href=\"https://gadgets.ndtv.com/mobiles/news/oneplus-3-3t-oxygenos-5-0-6-update-september-android-security-patch-1924321\" title=\"OnePlus 3, OnePlus 3T Receive OxygenOS 5.0.6 With September Android Security Patch\">\n",
      "                                OnePlus 3, OnePlus 3T Receive OxygenOS 5.0.6 With September Android Security Patch                            </a></div>, <div class=\"nstory_header\"><a href=\"https://sports.ndtv.com/formula-1/russian-grand-prix-valtteri-bottas-upstages-lewis-hamilton-to-take-pole-position-1924319\" title=\"Russian Grand Prix: Valtteri Bottas Upstages Lewis Hamilton To Take Pole Position\">\n",
      "                                Russian Grand Prix: Valtteri Bottas Upstages Lewis Hamilton To Take Pole Position                            </a></div>, <div class=\"nstory_header\"><a href=\"https://www.ndtv.com/india-news/probe-agency-files-supplementary-charge-sheet-in-sterling-biotech-case-1924317\" title=\"Probe Agency Files Supplementary Charge Sheet In Sterling Biotech Case\">\n",
      "                                Probe Agency Files Supplementary Charge Sheet In Sterling Biotech Case                            </a></div>, <div class=\"nstory_header\"><a href=\"https://www.ndtv.com/entertainment/only-tanushree-dutta-was-traumatised-renuka-shahane-picks-side-in-actress-fight-against-nana-patekar-1924316\" title=\"&quot;Only Tanushree Dutta Was Traumatised&quot;: Renuka Shahane Picks Side In Actress' Fight Against Nana Patekar\">\n",
      "                                \"Only Tanushree Dutta Was Traumatised\": Renuka Shahane Picks Side In Actress' Fight Against Nana Patekar                            </a></div>], [<div class=\"nstory_header\"><a href=\"https://www.ndtv.com/india-news/full-text-of-sushma-swarajs-speech-at-73rd-un-general-assembly-1924337\" title=\"Full Text Of Sushma Swaraj's Speech At 73rd UN General Assembly\">\n",
      "                                Full Text Of Sushma Swaraj's Speech At 73rd UN General Assembly                            </a></div>, <div class=\"nstory_header\"><a href=\"https://www.ndtv.com/india-news/external-affairs-minister-sushma-swaraj-slams-pakistan-at-united-nations-meet-accuses-it-of-harbouri-1924335\" title='\"Talks With Pak Failed Because Of Its Actions\": Sushma Swaraj At UN'>\n",
      "                                \"Talks With Pak Failed Because Of Its Actions\": Sushma Swaraj At UN                            </a></div>, <div class=\"nstory_header\"><a href=\"https://sports.ndtv.com/football/premier-league-rio-ferdinand-says-manchester-united-face-big-decisions-after-hammer-blow-1924333\" title='Rio Ferdinand Says Manchester United Face \"Big Decisions\" After Hammer Blow'>\n",
      "                                Rio Ferdinand Says Manchester United Face \"Big Decisions\" After Hammer Blow                            </a></div>, <div class=\"nstory_header\"><a href=\"https://www.ndtv.com/india-news/climate-terrorism-biggest-challenge-says-sushma-swaraj-top-quotes-1924332\" title='\"Pakistan Sheltered Osama Bin Laden\": Top Quotes Of Sushma Swaraj At UN'>\n",
      "                                \"Pakistan Sheltered Osama Bin Laden\": Top Quotes Of Sushma Swaraj At UN                            </a></div>, <div class=\"nstory_header\"><a href=\"https://www.ndtv.com/india-news/un-must-accept-it-needs-fundamental-reforms-says-sushma-swaraj-1924331\" title='\"Tomorrow Could Be Too Late\": Sushma Swaraj Calls For Urgent UN Reform'>\n",
      "                                \"Tomorrow Could Be Too Late\": Sushma Swaraj Calls For Urgent UN Reform                            </a></div>, <div class=\"nstory_header\"><a href=\"https://www.ndtv.com/india-news/pm-modi-attacks-congress-failed-as-opposition-disconnected-with-people-1924330\" title=\"Congress Only Levels False Charges, Has Failed As Opposition: PM Modi\">\n",
      "                                Congress Only Levels False Charges, Has Failed As Opposition: PM Modi                            </a></div>, <div class=\"nstory_header\"><a href=\"https://www.ndtv.com/entertainment/taimur-kareena-kapoor-and-other-guests-at-inaayas-birthday-party-see-pics-1924329\" title=\"Taimur, Kareena Kapoor And Other Guests At Inaaya's Birthday Party. See Pics\">\n",
      "                                Taimur, Kareena Kapoor And Other Guests At Inaaya's Birthday Party. See Pics                            </a></div>, <div class=\"nstory_header\"><a href=\"https://www.ndtv.com/world-news/indonesia-tsunami-sensors-missed-huge-waves-official-1924328\" title=\"Indonesia Tsunami Sensors Failed To Detect Huge Waves: Official\">\n",
      "                                Indonesia Tsunami Sensors Failed To Detect Huge Waves: Official                            </a></div>, <div class=\"nstory_header\"><a href=\"https://sports.ndtv.com/football/manchester-united-lose-1-3-against-west-ham-to-deepen-jose-mourinho-woes-1924327\" title=\"Manchester United Lose 1-3 Against West Ham To Deepen Jose Mourinho Woes\">\n",
      "                                Manchester United Lose 1-3 Against West Ham To Deepen Jose Mourinho Woes                            </a></div>, <div class=\"nstory_header\"><a href=\"https://sports.ndtv.com/football/premier-league-michael-vaughan-accuses-manchester-united-players-of-trying-to-get-jose-mourinho-move-1924323\" title='Michael Vaughan Accuses Manchester United Players Of Trying To Get Jose Mourinho \"Moved Out\"'>\n",
      "                                Michael Vaughan Accuses Manchester United Players Of Trying To Get Jose Mourinho \"Moved Out\"                            </a></div>, <div class=\"nstory_header\"><a href=\"https://www.ndtv.com/india-news/m-venkaiah-naidu-difficult-to-find-maths-science-teachers-for-villages-1924322\" title=\"Difficult To Find Maths, Science Teachers For Villages: M Venkaiah Naidu\">\n",
      "                                Difficult To Find Maths, Science Teachers For Villages: M Venkaiah Naidu                            </a></div>, <div class=\"nstory_header\"><a href=\"https://gadgets.ndtv.com/mobiles/news/oneplus-3-3t-oxygenos-5-0-6-update-september-android-security-patch-1924321\" title=\"OnePlus 3, OnePlus 3T Receive OxygenOS 5.0.6 With September Android Security Patch\">\n",
      "                                OnePlus 3, OnePlus 3T Receive OxygenOS 5.0.6 With September Android Security Patch                            </a></div>, <div class=\"nstory_header\"><a href=\"https://sports.ndtv.com/formula-1/russian-grand-prix-valtteri-bottas-upstages-lewis-hamilton-to-take-pole-position-1924319\" title=\"Russian Grand Prix: Valtteri Bottas Upstages Lewis Hamilton To Take Pole Position\">\n",
      "                                Russian Grand Prix: Valtteri Bottas Upstages Lewis Hamilton To Take Pole Position                            </a></div>, <div class=\"nstory_header\"><a href=\"https://www.ndtv.com/india-news/probe-agency-files-supplementary-charge-sheet-in-sterling-biotech-case-1924317\" title=\"Probe Agency Files Supplementary Charge Sheet In Sterling Biotech Case\">\n",
      "                                Probe Agency Files Supplementary Charge Sheet In Sterling Biotech Case                            </a></div>, <div class=\"nstory_header\"><a href=\"https://www.ndtv.com/entertainment/only-tanushree-dutta-was-traumatised-renuka-shahane-picks-side-in-actress-fight-against-nana-patekar-1924316\" title=\"&quot;Only Tanushree Dutta Was Traumatised&quot;: Renuka Shahane Picks Side In Actress' Fight Against Nana Patekar\">\n",
      "                                \"Only Tanushree Dutta Was Traumatised\": Renuka Shahane Picks Side In Actress' Fight Against Nana Patekar                            </a></div>], [<div class=\"nstory_header\"><a href=\"https://www.ndtv.com/india-news/full-text-of-sushma-swarajs-speech-at-73rd-un-general-assembly-1924337\" title=\"Full Text Of Sushma Swaraj's Speech At 73rd UN General Assembly\">\n",
      "                                Full Text Of Sushma Swaraj's Speech At 73rd UN General Assembly                            </a></div>, <div class=\"nstory_header\"><a href=\"https://www.ndtv.com/india-news/external-affairs-minister-sushma-swaraj-slams-pakistan-at-united-nations-meet-accuses-it-of-harbouri-1924335\" title='\"Talks With Pak Failed Because Of Its Actions\": Sushma Swaraj At UN'>\n",
      "                                \"Talks With Pak Failed Because Of Its Actions\": Sushma Swaraj At UN                            </a></div>, <div class=\"nstory_header\"><a href=\"https://sports.ndtv.com/football/premier-league-rio-ferdinand-says-manchester-united-face-big-decisions-after-hammer-blow-1924333\" title='Rio Ferdinand Says Manchester United Face \"Big Decisions\" After Hammer Blow'>\n",
      "                                Rio Ferdinand Says Manchester United Face \"Big Decisions\" After Hammer Blow                            </a></div>, <div class=\"nstory_header\"><a href=\"https://www.ndtv.com/india-news/climate-terrorism-biggest-challenge-says-sushma-swaraj-top-quotes-1924332\" title='\"Pakistan Sheltered Osama Bin Laden\": Top Quotes Of Sushma Swaraj At UN'>\n",
      "                                \"Pakistan Sheltered Osama Bin Laden\": Top Quotes Of Sushma Swaraj At UN                            </a></div>, <div class=\"nstory_header\"><a href=\"https://www.ndtv.com/india-news/un-must-accept-it-needs-fundamental-reforms-says-sushma-swaraj-1924331\" title='\"Tomorrow Could Be Too Late\": Sushma Swaraj Calls For Urgent UN Reform'>\n",
      "                                \"Tomorrow Could Be Too Late\": Sushma Swaraj Calls For Urgent UN Reform                            </a></div>, <div class=\"nstory_header\"><a href=\"https://www.ndtv.com/india-news/pm-modi-attacks-congress-failed-as-opposition-disconnected-with-people-1924330\" title=\"Congress Only Levels False Charges, Has Failed As Opposition: PM Modi\">\n",
      "                                Congress Only Levels False Charges, Has Failed As Opposition: PM Modi                            </a></div>, <div class=\"nstory_header\"><a href=\"https://www.ndtv.com/entertainment/taimur-kareena-kapoor-and-other-guests-at-inaayas-birthday-party-see-pics-1924329\" title=\"Taimur, Kareena Kapoor And Other Guests At Inaaya's Birthday Party. See Pics\">\n",
      "                                Taimur, Kareena Kapoor And Other Guests At Inaaya's Birthday Party. See Pics                            </a></div>, <div class=\"nstory_header\"><a href=\"https://www.ndtv.com/world-news/indonesia-tsunami-sensors-missed-huge-waves-official-1924328\" title=\"Indonesia Tsunami Sensors Failed To Detect Huge Waves: Official\">\n",
      "                                Indonesia Tsunami Sensors Failed To Detect Huge Waves: Official                            </a></div>, <div class=\"nstory_header\"><a href=\"https://sports.ndtv.com/football/manchester-united-lose-1-3-against-west-ham-to-deepen-jose-mourinho-woes-1924327\" title=\"Manchester United Lose 1-3 Against West Ham To Deepen Jose Mourinho Woes\">\n",
      "                                Manchester United Lose 1-3 Against West Ham To Deepen Jose Mourinho Woes                            </a></div>, <div class=\"nstory_header\"><a href=\"https://sports.ndtv.com/football/premier-league-michael-vaughan-accuses-manchester-united-players-of-trying-to-get-jose-mourinho-move-1924323\" title='Michael Vaughan Accuses Manchester United Players Of Trying To Get Jose Mourinho \"Moved Out\"'>\n",
      "                                Michael Vaughan Accuses Manchester United Players Of Trying To Get Jose Mourinho \"Moved Out\"                            </a></div>, <div class=\"nstory_header\"><a href=\"https://www.ndtv.com/india-news/m-venkaiah-naidu-difficult-to-find-maths-science-teachers-for-villages-1924322\" title=\"Difficult To Find Maths, Science Teachers For Villages: M Venkaiah Naidu\">\n",
      "                                Difficult To Find Maths, Science Teachers For Villages: M Venkaiah Naidu                            </a></div>, <div class=\"nstory_header\"><a href=\"https://gadgets.ndtv.com/mobiles/news/oneplus-3-3t-oxygenos-5-0-6-update-september-android-security-patch-1924321\" title=\"OnePlus 3, OnePlus 3T Receive OxygenOS 5.0.6 With September Android Security Patch\">\n",
      "                                OnePlus 3, OnePlus 3T Receive OxygenOS 5.0.6 With September Android Security Patch                            </a></div>, <div class=\"nstory_header\"><a href=\"https://sports.ndtv.com/formula-1/russian-grand-prix-valtteri-bottas-upstages-lewis-hamilton-to-take-pole-position-1924319\" title=\"Russian Grand Prix: Valtteri Bottas Upstages Lewis Hamilton To Take Pole Position\">\n",
      "                                Russian Grand Prix: Valtteri Bottas Upstages Lewis Hamilton To Take Pole Position                            </a></div>, <div class=\"nstory_header\"><a href=\"https://www.ndtv.com/india-news/probe-agency-files-supplementary-charge-sheet-in-sterling-biotech-case-1924317\" title=\"Probe Agency Files Supplementary Charge Sheet In Sterling Biotech Case\">\n",
      "                                Probe Agency Files Supplementary Charge Sheet In Sterling Biotech Case                            </a></div>, <div class=\"nstory_header\"><a href=\"https://www.ndtv.com/entertainment/only-tanushree-dutta-was-traumatised-renuka-shahane-picks-side-in-actress-fight-against-nana-patekar-1924316\" title=\"&quot;Only Tanushree Dutta Was Traumatised&quot;: Renuka Shahane Picks Side In Actress' Fight Against Nana Patekar\">\n",
      "                                \"Only Tanushree Dutta Was Traumatised\": Renuka Shahane Picks Side In Actress' Fight Against Nana Patekar                            </a></div>], [<div class=\"nstory_header\"><a href=\"https://www.ndtv.com/india-news/full-text-of-sushma-swarajs-speech-at-73rd-un-general-assembly-1924337\" title=\"Full Text Of Sushma Swaraj's Speech At 73rd UN General Assembly\">\n",
      "                                Full Text Of Sushma Swaraj's Speech At 73rd UN General Assembly                            </a></div>, <div class=\"nstory_header\"><a href=\"https://www.ndtv.com/india-news/external-affairs-minister-sushma-swaraj-slams-pakistan-at-united-nations-meet-accuses-it-of-harbouri-1924335\" title='\"Talks With Pak Failed Because Of Its Actions\": Sushma Swaraj At UN'>\n",
      "                                \"Talks With Pak Failed Because Of Its Actions\": Sushma Swaraj At UN                            </a></div>, <div class=\"nstory_header\"><a href=\"https://sports.ndtv.com/football/premier-league-rio-ferdinand-says-manchester-united-face-big-decisions-after-hammer-blow-1924333\" title='Rio Ferdinand Says Manchester United Face \"Big Decisions\" After Hammer Blow'>\n",
      "                                Rio Ferdinand Says Manchester United Face \"Big Decisions\" After Hammer Blow                            </a></div>, <div class=\"nstory_header\"><a href=\"https://www.ndtv.com/india-news/climate-terrorism-biggest-challenge-says-sushma-swaraj-top-quotes-1924332\" title='\"Pakistan Sheltered Osama Bin Laden\": Top Quotes Of Sushma Swaraj At UN'>\n",
      "                                \"Pakistan Sheltered Osama Bin Laden\": Top Quotes Of Sushma Swaraj At UN                            </a></div>, <div class=\"nstory_header\"><a href=\"https://www.ndtv.com/india-news/un-must-accept-it-needs-fundamental-reforms-says-sushma-swaraj-1924331\" title='\"Tomorrow Could Be Too Late\": Sushma Swaraj Calls For Urgent UN Reform'>\n",
      "                                \"Tomorrow Could Be Too Late\": Sushma Swaraj Calls For Urgent UN Reform                            </a></div>, <div class=\"nstory_header\"><a href=\"https://www.ndtv.com/india-news/pm-modi-attacks-congress-failed-as-opposition-disconnected-with-people-1924330\" title=\"Congress Only Levels False Charges, Has Failed As Opposition: PM Modi\">\n",
      "                                Congress Only Levels False Charges, Has Failed As Opposition: PM Modi                            </a></div>, <div class=\"nstory_header\"><a href=\"https://www.ndtv.com/entertainment/taimur-kareena-kapoor-and-other-guests-at-inaayas-birthday-party-see-pics-1924329\" title=\"Taimur, Kareena Kapoor And Other Guests At Inaaya's Birthday Party. See Pics\">\n",
      "                                Taimur, Kareena Kapoor And Other Guests At Inaaya's Birthday Party. See Pics                            </a></div>, <div class=\"nstory_header\"><a href=\"https://www.ndtv.com/world-news/indonesia-tsunami-sensors-missed-huge-waves-official-1924328\" title=\"Indonesia Tsunami Sensors Failed To Detect Huge Waves: Official\">\n",
      "                                Indonesia Tsunami Sensors Failed To Detect Huge Waves: Official                            </a></div>, <div class=\"nstory_header\"><a href=\"https://sports.ndtv.com/football/manchester-united-lose-1-3-against-west-ham-to-deepen-jose-mourinho-woes-1924327\" title=\"Manchester United Lose 1-3 Against West Ham To Deepen Jose Mourinho Woes\">\n",
      "                                Manchester United Lose 1-3 Against West Ham To Deepen Jose Mourinho Woes                            </a></div>, <div class=\"nstory_header\"><a href=\"https://sports.ndtv.com/football/premier-league-michael-vaughan-accuses-manchester-united-players-of-trying-to-get-jose-mourinho-move-1924323\" title='Michael Vaughan Accuses Manchester United Players Of Trying To Get Jose Mourinho \"Moved Out\"'>\n",
      "                                Michael Vaughan Accuses Manchester United Players Of Trying To Get Jose Mourinho \"Moved Out\"                            </a></div>, <div class=\"nstory_header\"><a href=\"https://www.ndtv.com/india-news/m-venkaiah-naidu-difficult-to-find-maths-science-teachers-for-villages-1924322\" title=\"Difficult To Find Maths, Science Teachers For Villages: M Venkaiah Naidu\">\n",
      "                                Difficult To Find Maths, Science Teachers For Villages: M Venkaiah Naidu                            </a></div>, <div class=\"nstory_header\"><a href=\"https://gadgets.ndtv.com/mobiles/news/oneplus-3-3t-oxygenos-5-0-6-update-september-android-security-patch-1924321\" title=\"OnePlus 3, OnePlus 3T Receive OxygenOS 5.0.6 With September Android Security Patch\">\n",
      "                                OnePlus 3, OnePlus 3T Receive OxygenOS 5.0.6 With September Android Security Patch                            </a></div>, <div class=\"nstory_header\"><a href=\"https://sports.ndtv.com/formula-1/russian-grand-prix-valtteri-bottas-upstages-lewis-hamilton-to-take-pole-position-1924319\" title=\"Russian Grand Prix: Valtteri Bottas Upstages Lewis Hamilton To Take Pole Position\">\n",
      "                                Russian Grand Prix: Valtteri Bottas Upstages Lewis Hamilton To Take Pole Position                            </a></div>, <div class=\"nstory_header\"><a href=\"https://www.ndtv.com/india-news/probe-agency-files-supplementary-charge-sheet-in-sterling-biotech-case-1924317\" title=\"Probe Agency Files Supplementary Charge Sheet In Sterling Biotech Case\">\n",
      "                                Probe Agency Files Supplementary Charge Sheet In Sterling Biotech Case                            </a></div>, <div class=\"nstory_header\"><a href=\"https://www.ndtv.com/entertainment/only-tanushree-dutta-was-traumatised-renuka-shahane-picks-side-in-actress-fight-against-nana-patekar-1924316\" title=\"&quot;Only Tanushree Dutta Was Traumatised&quot;: Renuka Shahane Picks Side In Actress' Fight Against Nana Patekar\">\n",
      "                                \"Only Tanushree Dutta Was Traumatised\": Renuka Shahane Picks Side In Actress' Fight Against Nana Patekar                            </a></div>], [<div class=\"nstory_header\"><a href=\"https://www.ndtv.com/india-news/full-text-of-sushma-swarajs-speech-at-73rd-un-general-assembly-1924337\" title=\"Full Text Of Sushma Swaraj's Speech At 73rd UN General Assembly\">\n",
      "                                Full Text Of Sushma Swaraj's Speech At 73rd UN General Assembly                            </a></div>, <div class=\"nstory_header\"><a href=\"https://www.ndtv.com/india-news/external-affairs-minister-sushma-swaraj-slams-pakistan-at-united-nations-meet-accuses-it-of-harbouri-1924335\" title='\"Talks With Pak Failed Because Of Its Actions\": Sushma Swaraj At UN'>\n",
      "                                \"Talks With Pak Failed Because Of Its Actions\": Sushma Swaraj At UN                            </a></div>, <div class=\"nstory_header\"><a href=\"https://sports.ndtv.com/football/premier-league-rio-ferdinand-says-manchester-united-face-big-decisions-after-hammer-blow-1924333\" title='Rio Ferdinand Says Manchester United Face \"Big Decisions\" After Hammer Blow'>\n",
      "                                Rio Ferdinand Says Manchester United Face \"Big Decisions\" After Hammer Blow                            </a></div>, <div class=\"nstory_header\"><a href=\"https://www.ndtv.com/india-news/climate-terrorism-biggest-challenge-says-sushma-swaraj-top-quotes-1924332\" title='\"Pakistan Sheltered Osama Bin Laden\": Top Quotes Of Sushma Swaraj At UN'>\n",
      "                                \"Pakistan Sheltered Osama Bin Laden\": Top Quotes Of Sushma Swaraj At UN                            </a></div>, <div class=\"nstory_header\"><a href=\"https://www.ndtv.com/india-news/un-must-accept-it-needs-fundamental-reforms-says-sushma-swaraj-1924331\" title='\"Tomorrow Could Be Too Late\": Sushma Swaraj Calls For Urgent UN Reform'>\n",
      "                                \"Tomorrow Could Be Too Late\": Sushma Swaraj Calls For Urgent UN Reform                            </a></div>, <div class=\"nstory_header\"><a href=\"https://www.ndtv.com/india-news/pm-modi-attacks-congress-failed-as-opposition-disconnected-with-people-1924330\" title=\"Congress Only Levels False Charges, Has Failed As Opposition: PM Modi\">\n",
      "                                Congress Only Levels False Charges, Has Failed As Opposition: PM Modi                            </a></div>, <div class=\"nstory_header\"><a href=\"https://www.ndtv.com/entertainment/taimur-kareena-kapoor-and-other-guests-at-inaayas-birthday-party-see-pics-1924329\" title=\"Taimur, Kareena Kapoor And Other Guests At Inaaya's Birthday Party. See Pics\">\n",
      "                                Taimur, Kareena Kapoor And Other Guests At Inaaya's Birthday Party. See Pics                            </a></div>, <div class=\"nstory_header\"><a href=\"https://www.ndtv.com/world-news/indonesia-tsunami-sensors-missed-huge-waves-official-1924328\" title=\"Indonesia Tsunami Sensors Failed To Detect Huge Waves: Official\">\n",
      "                                Indonesia Tsunami Sensors Failed To Detect Huge Waves: Official                            </a></div>, <div class=\"nstory_header\"><a href=\"https://sports.ndtv.com/football/manchester-united-lose-1-3-against-west-ham-to-deepen-jose-mourinho-woes-1924327\" title=\"Manchester United Lose 1-3 Against West Ham To Deepen Jose Mourinho Woes\">\n",
      "                                Manchester United Lose 1-3 Against West Ham To Deepen Jose Mourinho Woes                            </a></div>, <div class=\"nstory_header\"><a href=\"https://sports.ndtv.com/football/premier-league-michael-vaughan-accuses-manchester-united-players-of-trying-to-get-jose-mourinho-move-1924323\" title='Michael Vaughan Accuses Manchester United Players Of Trying To Get Jose Mourinho \"Moved Out\"'>\n",
      "                                Michael Vaughan Accuses Manchester United Players Of Trying To Get Jose Mourinho \"Moved Out\"                            </a></div>, <div class=\"nstory_header\"><a href=\"https://www.ndtv.com/india-news/m-venkaiah-naidu-difficult-to-find-maths-science-teachers-for-villages-1924322\" title=\"Difficult To Find Maths, Science Teachers For Villages: M Venkaiah Naidu\">\n",
      "                                Difficult To Find Maths, Science Teachers For Villages: M Venkaiah Naidu                            </a></div>, <div class=\"nstory_header\"><a href=\"https://gadgets.ndtv.com/mobiles/news/oneplus-3-3t-oxygenos-5-0-6-update-september-android-security-patch-1924321\" title=\"OnePlus 3, OnePlus 3T Receive OxygenOS 5.0.6 With September Android Security Patch\">\n",
      "                                OnePlus 3, OnePlus 3T Receive OxygenOS 5.0.6 With September Android Security Patch                            </a></div>, <div class=\"nstory_header\"><a href=\"https://sports.ndtv.com/formula-1/russian-grand-prix-valtteri-bottas-upstages-lewis-hamilton-to-take-pole-position-1924319\" title=\"Russian Grand Prix: Valtteri Bottas Upstages Lewis Hamilton To Take Pole Position\">\n",
      "                                Russian Grand Prix: Valtteri Bottas Upstages Lewis Hamilton To Take Pole Position                            </a></div>, <div class=\"nstory_header\"><a href=\"https://www.ndtv.com/india-news/probe-agency-files-supplementary-charge-sheet-in-sterling-biotech-case-1924317\" title=\"Probe Agency Files Supplementary Charge Sheet In Sterling Biotech Case\">\n",
      "                                Probe Agency Files Supplementary Charge Sheet In Sterling Biotech Case                            </a></div>, <div class=\"nstory_header\"><a href=\"https://www.ndtv.com/entertainment/only-tanushree-dutta-was-traumatised-renuka-shahane-picks-side-in-actress-fight-against-nana-patekar-1924316\" title=\"&quot;Only Tanushree Dutta Was Traumatised&quot;: Renuka Shahane Picks Side In Actress' Fight Against Nana Patekar\">\n",
      "                                \"Only Tanushree Dutta Was Traumatised\": Renuka Shahane Picks Side In Actress' Fight Against Nana Patekar                            </a></div>]]\n"
     ]
    }
   ],
   "source": [
    "print(stories)"
   ]
  },
  {
   "cell_type": "code",
   "execution_count": null,
   "metadata": {},
   "outputs": [],
   "source": []
  },
  {
   "cell_type": "code",
   "execution_count": null,
   "metadata": {},
   "outputs": [],
   "source": []
  }
 ],
 "metadata": {
  "kernelspec": {
   "display_name": "Python 3",
   "language": "python",
   "name": "python3"
  },
  "language_info": {
   "codemirror_mode": {
    "name": "ipython",
    "version": 3
   },
   "file_extension": ".py",
   "mimetype": "text/x-python",
   "name": "python",
   "nbconvert_exporter": "python",
   "pygments_lexer": "ipython3",
   "version": "3.6.5"
  }
 },
 "nbformat": 4,
 "nbformat_minor": 2
}
